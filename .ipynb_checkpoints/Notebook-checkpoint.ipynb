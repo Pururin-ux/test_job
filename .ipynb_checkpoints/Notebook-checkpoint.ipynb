{
 "cells": [
  {
   "cell_type": "code",
   "execution_count": null,
   "id": "8df78e82-c6bd-4a5b-babe-3b79ff8c309d",
   "metadata": {},
   "outputs": [],
   "source": [
    "import pandas as pd\n",
    "import os\n",
    "from matplotlib import pyplot as plt\n",
    "\n",
    "\n",
    "class PlotDrawer:\n",
    "    def draw_plots(self, json_file):\n",
    "        # Чтение данных из JSON-файла в DataFrame\n",
    "        data = pd.read_json(json_file)\n",
    "\n",
    "        # Создание папки \"plots\", если её нет\n",
    "        if not os.path.exists(\"plots\"):\n",
    "            os.makedirs(\"plots\")\n",
    "\n",
    "        # Создание графиков и сохранение их в папку \"plots\"\n",
    "        plot_paths = []\n",
    "        for column in data.columns:\n",
    "            if column == \"name\":\n",
    "                continue\n",
    "            plt.figure()\n",
    "            plt.plot(data[column])\n",
    "            plt.title(column)\n",
    "            plot_path = os.path.join(\"plots\", f\"{column}.png\")\n",
    "            plt.savefig(plot_path)\n",
    "            plot_paths.append(plot_path)\n",
    "            plt.close()\n",
    "\n",
    "        return plot_paths\n",
    "\n",
    "# Создаем экземпляр класса PlotDrawer\n",
    "plot_drawer = PlotDrawer()\n",
    "\n",
    "# Путь к JSON-файлу с данными\n",
    "json_file = \"deviation.json\"\n",
    "\n",
    "# Вызываем функцию draw_plots для построения графиков\n",
    "plot_paths = plot_drawer.draw_plots(json_file)\n",
    "\n",
    "# Выводим пути к сохраненным графикам\n",
    "print(\"Plots saved at:\", plot_paths)\n",
    "\n",
    "\n"
   ]
  }
 ],
 "metadata": {
  "kernelspec": {
   "display_name": "Python 3 (ipykernel)",
   "language": "python",
   "name": "python3"
  },
  "language_info": {
   "codemirror_mode": {
    "name": "ipython",
    "version": 3
   },
   "file_extension": ".py",
   "mimetype": "text/x-python",
   "name": "python",
   "nbconvert_exporter": "python",
   "pygments_lexer": "ipython3",
   "version": "3.9.4"
  }
 },
 "nbformat": 4,
 "nbformat_minor": 5
}
